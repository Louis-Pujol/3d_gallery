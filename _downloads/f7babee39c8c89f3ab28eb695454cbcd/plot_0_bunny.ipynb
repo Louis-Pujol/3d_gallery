{
  "cells": [
    {
      "cell_type": "code",
      "execution_count": null,
      "metadata": {
        "collapsed": false
      },
      "outputs": [],
      "source": [
        "%matplotlib inline"
      ]
    },
    {
      "cell_type": "markdown",
      "metadata": {},
      "source": [
        "\n# Basic plotting\n\nThis examples demonstrates how to show static/interactive and animated pyvista scenes.\n"
      ]
    },
    {
      "cell_type": "markdown",
      "metadata": {},
      "source": [
        "## Load data and plot\n\n\n"
      ]
    },
    {
      "cell_type": "code",
      "execution_count": null,
      "metadata": {
        "collapsed": false
      },
      "outputs": [],
      "source": [
        "#\u00a0%%\n\nimport pyvista as pv\nfrom pyvista import examples\n\nbunny = examples.download_bunny()\n\ncpos = [(0.07817110755919496, 0.13558926405422117, 0.5210700195677971),\n (-0.01684039831161499, 0.11015420686453581, -0.0015369504690170288),\n (-0.26589633341798463, 0.9640005779198042, 0.0014232516134205578)]\n\nbunny.plot(cpos=cpos)"
      ]
    },
    {
      "cell_type": "markdown",
      "metadata": {},
      "source": [
        "## Animation\n\n\n"
      ]
    },
    {
      "cell_type": "code",
      "execution_count": null,
      "metadata": {
        "collapsed": false
      },
      "outputs": [],
      "source": [
        "colors = [\"red\", \"green\", \"blue\"]\n\nplotter = pv.Plotter()\nplotter.open_gif(\"file.gif\", fps=1)\nfor i in range(len(colors)):\n    plotter.clear_actors()\n    plotter.add_mesh(\n        bunny,\n        color=colors[i]\n    )\n    plotter.camera_position = cpos\n    plotter.write_frame()\n\nplotter.show()"
      ]
    }
  ],
  "metadata": {
    "kernelspec": {
      "display_name": "Python 3",
      "language": "python",
      "name": "python3"
    },
    "language_info": {
      "codemirror_mode": {
        "name": "ipython",
        "version": 3
      },
      "file_extension": ".py",
      "mimetype": "text/x-python",
      "name": "python",
      "nbconvert_exporter": "python",
      "pygments_lexer": "ipython3",
      "version": "3.11.8"
    }
  },
  "nbformat": 4,
  "nbformat_minor": 0
}